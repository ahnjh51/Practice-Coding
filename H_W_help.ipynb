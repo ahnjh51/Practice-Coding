{
  "nbformat": 4,
  "nbformat_minor": 0,
  "metadata": {
    "colab": {
      "provenance": [],
      "authorship_tag": "ABX9TyMMBv2oB/ByuqvZZfxow5Gn",
      "include_colab_link": true
    },
    "kernelspec": {
      "name": "python3",
      "display_name": "Python 3"
    },
    "language_info": {
      "name": "python"
    }
  },
  "cells": [
    {
      "cell_type": "markdown",
      "metadata": {
        "id": "view-in-github",
        "colab_type": "text"
      },
      "source": [
        "<a href=\"https://colab.research.google.com/github/ahnjh51/Practice-Coding/blob/main/H_W_help.ipynb\" target=\"_parent\"><img src=\"https://colab.research.google.com/assets/colab-badge.svg\" alt=\"Open In Colab\"/></a>"
      ]
    },
    {
      "cell_type": "code",
      "execution_count": 65,
      "metadata": {
        "id": "sudf9R0ZBZrv"
      },
      "outputs": [],
      "source": [
        "def word_fits_in_grid(first_letter_pos, word_direction, word):\n",
        "    row, col = ord(first_letter_pos[0]) - ord('A') + 1, int(first_letter_pos[1])\n",
        "    if word_direction == \"across\":\n",
        "        return col + len(word) - 1 <= 15\n",
        "    elif word_direction == \"down\":\n",
        "        return row + len(word) - 1 <= 15\n",
        "    else:\n",
        "        return False"
      ]
    },
    {
      "cell_type": "code",
      "source": [
        "word_fits_in_grid('A15','across','Historical')"
      ],
      "metadata": {
        "colab": {
          "base_uri": "https://localhost:8080/"
        },
        "id": "N1kezlKWiXBj",
        "outputId": "682439f6-ed21-4579-bff7-06cf85d6314c"
      },
      "execution_count": 82,
      "outputs": [
        {
          "output_type": "execute_result",
          "data": {
            "text/plain": [
              "True"
            ]
          },
          "metadata": {},
          "execution_count": 82
        }
      ]
    },
    {
      "cell_type": "code",
      "source": [
        "def dot_product(a, b):\n",
        "    return a[0]*b[0] + a[1]*b[1] + a[2]*b[2]\n",
        "\n",
        "def cross_product(a, b):\n",
        "    return [a[1]*b[2] - a[2]*b[1], a[2]*b[0] - a[0]*b[2], a[0]*b[1] - a[1]*b[0]]\n",
        "\n",
        "def scalar_triple_product(a, b, c):\n",
        "    return dot_product(a, cross_product(b, c))\n",
        "\n",
        "def vector_triple_product(a, b, c):\n",
        "    return cross_product(a, cross_product(b, c))"
      ],
      "metadata": {
        "id": "ZqjdmDZ8MrPc"
      },
      "execution_count": 84,
      "outputs": []
    },
    {
      "cell_type": "code",
      "source": [
        "a=[1,2,3]\n",
        "b=[4,5,6]\n",
        "c=[6,7,8]\n",
        "\n",
        "print(dot_product(a,b))\n",
        "print(cross_product(a,b))\n",
        "print(scalar_triple_product(a,b,c))\n",
        "print(vector_triple_product(a,b,c))"
      ],
      "metadata": {
        "colab": {
          "base_uri": "https://localhost:8080/"
        },
        "id": "D3XPIvu7j6Ai",
        "outputId": "79db5db0-f045-42ba-97cc-9dd30e5cc736"
      },
      "execution_count": 87,
      "outputs": [
        {
          "output_type": "stream",
          "name": "stdout",
          "text": [
            "32\n",
            "[-3, 6, -3]\n",
            "0\n",
            "[-16, -4, 8]\n"
          ]
        }
      ]
    },
    {
      "cell_type": "code",
      "source": [
        "import math\n",
        "\n",
        "def pyramid(n, s, h):\n",
        "    a = 0.5 * s * (1 / math.tan(math.pi / n)) # cot is 1/tan\n",
        "    A = 0.5 * n * s * a\n",
        "    l = math.sqrt(h**2 + a**2)\n",
        "    V = (1/3) * A * h\n",
        "    S = A + (1/2) * n * s * l\n",
        "    return V, S"
      ],
      "metadata": {
        "id": "THzDRFSKM_jl"
      },
      "execution_count": 91,
      "outputs": []
    },
    {
      "cell_type": "code",
      "source": [
        "n=2\n",
        "s=12\n",
        "h=3\n",
        "print(pyramid(n,s,h))"
      ],
      "metadata": {
        "colab": {
          "base_uri": "https://localhost:8080/"
        },
        "id": "Kz0YIkFTkPxe",
        "outputId": "3596dbfd-a923-41e2-a1a8-7fa18ece7de9"
      },
      "execution_count": 92,
      "outputs": [
        {
          "output_type": "stream",
          "name": "stdout",
          "text": [
            "(4.408728476930472e-15, 36.00000000000001)\n"
          ]
        }
      ]
    }
  ]
}